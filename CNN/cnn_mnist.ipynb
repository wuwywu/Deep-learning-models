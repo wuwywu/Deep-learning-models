{
 "cells": [
  {
   "cell_type": "markdown",
   "metadata": {},
   "source": [
    "### 使用CNN 识别手写数字"
   ]
  },
  {
   "cell_type": "code",
   "execution_count": 1,
   "metadata": {},
   "outputs": [],
   "source": [
    "import torch\n",
    "import torch.nn as nn\n",
    "import torch.nn.functional as F\n",
    "import torchvision\n",
    "from torchvision import transforms, datasets\n",
    "from torch.utils.data import DataLoader, Dataset\n",
    "import numpy as np\n",
    "import pandas as pd\n",
    "import matplotlib.pyplot as plt"
   ]
  },
  {
   "cell_type": "code",
   "execution_count": 2,
   "metadata": {},
   "outputs": [],
   "source": [
    "# 选择设备\n",
    "# GPU usage #########################################\n",
    "# dtype = torch.FloatTensor # uncomment if you are using CPU\n",
    "dtype = torch.cuda.FloatTensor # uncomment if you are using GPU\n",
    "device = torch.device(\"cuda:0\" if torch.cuda.is_available() else \"cpu\")"
   ]
  },
  {
   "cell_type": "markdown",
   "metadata": {},
   "source": [
    "#### 数据集"
   ]
  },
  {
   "cell_type": "code",
   "execution_count": 3,
   "metadata": {},
   "outputs": [],
   "source": [
    "batch_size = 64\n",
    "# 数据集\n",
    "data_path = './data/MNIST'\n",
    "trainset = datasets.MNIST(root=data_path,\n",
    "                        train=True, \n",
    "                        download=True, \n",
    "                        transform=transforms.ToTensor())\n",
    "\n",
    "testset = datasets.MNIST(root=data_path, \n",
    "                         train=False, \n",
    "                         download=True, \n",
    "                         transform=transforms.ToTensor())\n",
    "\n",
    "# 载入数据集\n",
    "train_data_loader = torch.utils.data.DataLoader(\n",
    "        dataset=trainset,\n",
    "        batch_size=batch_size,\n",
    "        shuffle=True,\n",
    "        drop_last=True)\n",
    "\n",
    "test_data_loader = torch.utils.data.DataLoader(\n",
    "        dataset=testset,\n",
    "        batch_size=1000,\n",
    "        shuffle=False,\n",
    "        drop_last=False)"
   ]
  },
  {
   "cell_type": "code",
   "execution_count": 4,
   "metadata": {},
   "outputs": [
    {
     "data": {
      "image/png": "[encoded data removed]",
      "text/plain": [
       "<Figure size 800x300 with 10 Axes>"
      ]
     },
     "metadata": {},
     "output_type": "display_data"
    },
    {
     "name": "stdout",
     "output_type": "stream",
     "text": [
      "torch.Size([64, 1, 28, 28])\n",
      "torch.Size([64, 10])\n",
      "torch.Size([1000, 1, 28, 28])\n",
      "torch.Size([1000, 10])\n"
     ]
    }
   ],
   "source": [
    "# 展示数据集\n",
    "fig = plt.figure(figsize=(8,3))\n",
    "num_classes = 10\n",
    "for i in range(num_classes):\n",
    "    ax = fig.add_subplot(2, 5, 1 + i, xticks=[], yticks=[])\n",
    "    ax.set_title(f\"{i}\")\n",
    "    img = next(img for img, label in trainset if label == i)\n",
    "    plt.imshow(img.permute(1, 2, 0).numpy())  # permute(1, 2, 0) 将通道维移到最后\n",
    "plt.show()\n",
    "\n",
    "images, labels = next(iter(train_data_loader))\n",
    "print(images.shape)\n",
    "print(F.one_hot(labels, num_classes=10).shape)\n",
    "\n",
    "images, labels = next(iter(test_data_loader))\n",
    "print(images.shape)\n",
    "print(F.one_hot(labels, num_classes=10).shape)"
   ]
  },
  {
   "cell_type": "markdown",
   "metadata": {},
   "source": [
    "#### 构建神经网络"
   ]
  },
  {
   "cell_type": "code",
   "execution_count": 5,
   "metadata": {},
   "outputs": [],
   "source": [
    "# 构建神经网络\n",
    "class Classifier(nn.Module):\n",
    "    # Sequential的作用就是连接模型的功能，使代码看起来更加整洁\n",
    "    def __init__(self, learning_rate):\n",
    "        super().__init__()\n",
    "        # 定义网络的结构\n",
    "        self.model = nn.Sequential(\n",
    "            nn.Conv2d(1, 16, kernel_size=3, stride=1, padding=1),\n",
    "            nn.ReLU(),\n",
    "            nn.Conv2d(16, 16, kernel_size=3, stride=1, padding=1),\n",
    "            nn.ReLU(),\n",
    "            nn.MaxPool2d(kernel_size=2, stride=2),\n",
    "            nn.Conv2d(16, 32, kernel_size=3, stride=1, padding=1),\n",
    "            nn.ReLU(),\n",
    "            nn.Conv2d(32, 32, kernel_size=3, stride=1, padding=1),\n",
    "            nn.ReLU(),\n",
    "            nn.MaxPool2d(kernel_size=2, stride=2),\n",
    "            nn.Flatten(),\n",
    "            nn.Linear(32*7*7, 128),\n",
    "            nn.ReLU(),\n",
    "            nn.Dropout(0.5),\n",
    "            nn.Linear(128, 10),\n",
    "        ).to(device)\n",
    "        \n",
    "        # 定义损失函数\n",
    "        self.loss_fun = nn.CrossEntropyLoss()\n",
    "\n",
    "        # 定义优化器\n",
    "        # self.optimiser = torch.optim.SGD(self.parameters(), lr=learning_rate) # 随机梯度下降法\n",
    "        self.optimiser = torch.optim.Adam(self.parameters(), lr=learning_rate) # Adam优化器\n",
    "\n",
    "        # 记录损失函数\n",
    "        self.counter = 0 # 训练次数\n",
    "        self.progress = [] # 损失函数值\n",
    "\n",
    "    def forward(self, x):\n",
    "        # 前向传播\n",
    "        x = self.model(x)\n",
    "        return x\n",
    "    \n",
    "    def NN_train(self, inputs_list, targets_list):\n",
    "        '''\n",
    "            训练网络分为两步：\n",
    "            1、给定训练样本计算输出\n",
    "            2、将计算得到的输出与设置的标准输出做对比，得到误差函数指导网络权重更新\n",
    "        '''\n",
    "        # 前向传播\n",
    "        outputs = self.model(inputs_list)\n",
    "        # 计算损失函数\n",
    "        loss = self.loss_fun(outputs, targets_list)\n",
    "\n",
    "        # 清空梯度\n",
    "        self.optimiser.zero_grad()\n",
    "        # 反向传播\n",
    "        loss.backward()\n",
    "        # 更新参数\n",
    "        self.optimiser.step()\n",
    "\n",
    "        # 记录损失函数\n",
    "        self.counter += 1\n",
    "        # 记录损失函数\n",
    "        if self.counter%100==0:\n",
    "            self.progress.append(loss.item())\n",
    "        "
   ]
  },
  {
   "cell_type": "code",
   "execution_count": 6,
   "metadata": {},
   "outputs": [],
   "source": [
    "# 实例化网络\n",
    "lr = 1e-3               # 学习率\n",
    "epochs = 100    # 设定世代数"
   ]
  },
  {
   "cell_type": "code",
   "execution_count": 7,
   "metadata": {},
   "outputs": [],
   "source": [
    "CNN =  Classifier(lr)"
   ]
  },
  {
   "cell_type": "code",
   "execution_count": null,
   "metadata": {},
   "outputs": [
    {
     "name": "stdout",
     "output_type": "stream",
     "text": [
      "======= 开始训练 =======\n",
      "\n",
      " 学习进度：4.000 %"
     ]
    }
   ],
   "source": [
    "print(\"======= 开始训练 =======\\n\")\n",
    "for e in range(epochs):\n",
    "    if e%1==0:    \n",
    "        print(\"\\r\", \"学习进度：{:.3f} %\".format(e*100/epochs), end='', flush=True)\n",
    "\n",
    "        for i, data in enumerate(train_data_loader, 0):\n",
    "            inputs, labels = data\n",
    "            # 将标签转换为one-hot编码\n",
    "            # targets = F.one_hot(labels, num_classes=10)\n",
    "            # 训练网络\n",
    "            CNN.NN_train(inputs.to(device), labels.to(device))\n",
    "            # CNN(inputs.to(device))\n",
    "\n",
    "print(\"\\n======= 训练完成 =======\\n\")"
   ]
  },
  {
   "cell_type": "code",
   "execution_count": null,
   "metadata": {},
   "outputs": [],
   "source": [
    "# 画出损失函数\n",
    "plt.plot(CNN.progress, label='loss')\n",
    "plt.xlabel('Iterations')\n",
    "plt.ylabel('Loss')\n",
    "plt.title('Loss Function')\n",
    "plt.legend()\n",
    "plt.show()"
   ]
  },
  {
   "cell_type": "code",
   "execution_count": null,
   "metadata": {},
   "outputs": [],
   "source": [
    "CNN.eval()\n",
    "# 测试网络\n",
    "correct = 0\n",
    "total = 0\n",
    "with torch.no_grad():  # 测试时不需要计算梯度\n",
    "    for data in test_data_loader:\n",
    "        inputs, labels = data\n",
    "        labels = labels.to(device)\n",
    "        outputs = CNN(inputs.to(device))\n",
    "        _, predicted = torch.max(outputs.data, 1)  # 找到概率最大的下标\n",
    "        total += labels.size(0)\n",
    "        correct += (predicted == labels).sum().item()  # 预测正确的数目\n",
    "\n",
    "print('Accuracy of the network on the 10000 test images: %d %%' % (100 * correct / total))"
   ]
  },
  {
   "cell_type": "code",
   "execution_count": null,
   "metadata": {},
   "outputs": [],
   "source": [
    "# 查看模型参数的概览\n",
    "print(\"模型参数概览：\")\n",
    "for name, param in CNN.named_parameters():\n",
    "    print(f\"参数名称: {name}, 形状: {param.shape}\")"
   ]
  }
 ],
 "metadata": {
  "kernelspec": {
   "display_name": "Python 3",
   "language": "python",
   "name": "python3"
  },
  "language_info": {
   "codemirror_mode": {
    "name": "ipython",
    "version": 3
   },
   "file_extension": ".py",
   "mimetype": "text/x-python",
   "name": "python",
   "nbconvert_exporter": "python",
   "pygments_lexer": "ipython3",
   "version": "3.11.9"
  }
 },
 "nbformat": 4,
 "nbformat_minor": 2
}
